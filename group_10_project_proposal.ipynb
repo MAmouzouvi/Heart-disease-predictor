{
 "cells": [
  {
   "cell_type": "markdown",
   "id": "e45856a9-c55a-4f80-91a9-450175ea5846",
   "metadata": {
    "tags": []
   },
   "source": [
    "# Project proposal -- Heart Disease Prediction\n",
    "\n",
    "### Introduction:\n",
    "\n",
    "\n",
    "Cardiovascular diseases, particularly heart disease, represent a significant global health concern. Understanding and accurately diagnosing heart disease is pivotal for effective patient care and management. In this proposal, we aim to address the question of diagnosing heart disease using machine learning techniques. Specifically, we will attempt to detect the presence of heart disease in patients by leveraging the Cleveland dataset.\n",
    "\n",
    "#### Research question : \n",
    "Can machine learning improve the accuracy of diagnosing heart disease using patient demographics and medical histories?\n",
    "\n",
    "### Identify and describe the dataset that will be used to answer the question : \n",
    "\n",
    "### <span style=\"color:red; font-weight:bold;\"> WILL FINISH THIS LATER\n",
    "<!-- \n",
    "This worksheet covers parts of [the Classification I chapter](https://datasciencebook.ca/classification1.html) of the online textbook. You should read this chapter before attempting the worksheet. -->"
   ]
  },
  {
   "cell_type": "code",
   "execution_count": 1,
   "id": "e5807e81-921b-46ac-88e5-1ba123b5edc2",
   "metadata": {
    "tags": []
   },
   "outputs": [
    {
     "name": "stderr",
     "output_type": "stream",
     "text": [
      "── \u001b[1mAttaching packages\u001b[22m ─────────────────────────────────────── tidyverse 1.3.2 ──\n",
      "\u001b[32m✔\u001b[39m \u001b[34mggplot2\u001b[39m 3.4.2     \u001b[32m✔\u001b[39m \u001b[34mpurrr  \u001b[39m 1.0.1\n",
      "\u001b[32m✔\u001b[39m \u001b[34mtibble \u001b[39m 3.2.1     \u001b[32m✔\u001b[39m \u001b[34mdplyr  \u001b[39m 1.1.1\n",
      "\u001b[32m✔\u001b[39m \u001b[34mtidyr  \u001b[39m 1.3.0     \u001b[32m✔\u001b[39m \u001b[34mstringr\u001b[39m 1.5.0\n",
      "\u001b[32m✔\u001b[39m \u001b[34mreadr  \u001b[39m 2.1.3     \u001b[32m✔\u001b[39m \u001b[34mforcats\u001b[39m 0.5.2\n",
      "── \u001b[1mConflicts\u001b[22m ────────────────────────────────────────── tidyverse_conflicts() ──\n",
      "\u001b[31m✖\u001b[39m \u001b[34mdplyr\u001b[39m::\u001b[32mfilter()\u001b[39m masks \u001b[34mstats\u001b[39m::filter()\n",
      "\u001b[31m✖\u001b[39m \u001b[34mdplyr\u001b[39m::\u001b[32mlag()\u001b[39m    masks \u001b[34mstats\u001b[39m::lag()\n",
      "Updating HTML index of packages in '.Library'\n",
      "\n",
      "Making 'packages.html' ...\n",
      " done\n",
      "\n",
      "\n",
      "Attaching package: ‘scales’\n",
      "\n",
      "\n",
      "The following object is masked from ‘package:purrr’:\n",
      "\n",
      "    discard\n",
      "\n",
      "\n",
      "The following object is masked from ‘package:readr’:\n",
      "\n",
      "    col_factor\n",
      "\n",
      "\n"
     ]
    }
   ],
   "source": [
    "library(tidyverse)\n",
    "install.packages(\"cowplot\")\n",
    "library(cowplot)\n",
    "library(scales)"
   ]
  },
  {
   "cell_type": "code",
   "execution_count": null,
   "id": "61c480ce-0b5a-4f40-b9e9-6ca32e0cdb83",
   "metadata": {
    "tags": []
   },
   "outputs": [],
   "source": [
    "install.packages(\"readr\")\n",
    "library(readr)"
   ]
  },
  {
   "cell_type": "code",
   "execution_count": null,
   "id": "3a172c09-3966-4e77-959a-601afcf5eac5",
   "metadata": {
    "tags": []
   },
   "outputs": [],
   "source": [
    "# Define the URL and destination file\n",
    "url <- \"https://archive.ics.uci.edu/ml/machine-learning-databases/heart-disease/processed.cleveland.data\"\n",
    "destfile <- \"data/heart_disease_dataset.csv\"\n",
    "\n",
    "# Download the file\n",
    "download.file(url, destfile, method = \"auto\")\n",
    "\n",
    "# Read the CSV file into a data frame\n",
    "heart_disease_data <- read_csv(destfile)\n",
    "\n",
    "# Rename the columns using mutate and a named vector\n",
    "heart_disease_data <- heart_disease_data |>\n",
    "  setNames(c(\"age\", \"sex\", \"chest_pain\", \"trestbps\", \"chol\", \"fbs\", \"restecg\", \"thalach\", \"exang\", \"oldpeak\", \"slop\", \"ca\", \"thal\", \"num\"))\n",
    "\n",
    "\n",
    "# View the resulting data frame\n",
    "head(heart_disease_data)\n",
    "#jdbjfjlbzblfb\n",
    "heart_disease_data"
   ]
  },
  {
   "cell_type": "code",
   "execution_count": null,
   "id": "78f4261b-6ec6-4838-a041-0419cd18d359",
   "metadata": {},
   "outputs": [],
   "source": []
  }
 ],
 "metadata": {
  "kernelspec": {
   "display_name": "R",
   "language": "R",
   "name": "ir"
  },
  "language_info": {
   "codemirror_mode": "r",
   "file_extension": ".r",
   "mimetype": "text/x-r-source",
   "name": "R",
   "pygments_lexer": "r",
   "version": "4.2.2"
  }
 },
 "nbformat": 4,
 "nbformat_minor": 5
}
