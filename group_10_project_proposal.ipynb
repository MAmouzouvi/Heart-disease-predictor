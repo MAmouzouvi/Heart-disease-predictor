{
 "cells": [
  {
   "cell_type": "markdown",
   "id": "e45856a9-c55a-4f80-91a9-450175ea5846",
   "metadata": {
    "tags": []
   },
   "source": [
    "# Project Proposal — Heart Disease Prediction\n",
    "\n",
    "## Introduction\n",
    "\n",
    "Cardiovascular diseases, particularly heart disease, pose a significant global health challenge. Accurate diagnosis is crucial for effective patient care. In this proposal, we aim to address the question of diagnosing heart disease using machine learning techniques. Specifically, we will attempt to detect the presence of heart disease in patients by leveraging a heart disease dataset obtained from Kaggle. The diagnosis (num) ranges from 0 (no presence) to 4. However, our focus will be on distinguishing between the presence (values 1, 2, 3, 4) and absence (value 0) of heart disease.\n",
    "\n",
    "The dataset consists of 16 variables, but for the purpose of this project, we will focus on a subset of 8-10 variables. Below is the description of the selected variables:\n",
    "\n",
    "1. **Age (age) **: Age of the patient.\n",
    "2. **Sex (age) **: Gender of the patient (1 = male, 0 = female).\n",
    "3. **Chest Pain Type (cp)**:\n",
    "   - Value 1: Typical angina\n",
    "   - Value 2: Atypical angina\n",
    "   - Value 3: Non-anginal pain\n",
    "   - Value 4: Asymptomatic\n",
    "4. **Resting Blood Pressure (trestbps)**: Measured in mm Hg upon hospital admission.\n",
    "5. **Serum Cholesterol (chol)**: Serum cholesterol level in mg/dL.\n",
    "6. **Fasting Blood Sugar (fbs)**:\n",
    "   - 1 = Fasting blood sugar > 120 mg/dL\n",
    "   - 0 = Fasting blood sugar <= 120 mg/dL\n",
    "7. **Resting Electrocardiographic Results (restecg)**:\n",
    "   - Value 0: Normal\n",
    "   - Value 1: ST-T wave abnormality (T wave inversions and/or ST elevation or depression of > 0.05 mV)\n",
    "   - Value 2: Probable or definite left ventricular hypertrophy by Estes' criteria\n",
    "8. **Diagnosis of Heart Disease (num)**: Angiographic disease status, representing the degree of blockages or narrowing in major vessels.\n",
    "   - Value 0: < 50% diameter narrowing\n",
    "   - Value 1: > 50% diameter narrowing (in any major vessel; attributes 59 through 68 represent vessels)\n",
    "   \n",
    "9. **Identity (id) **: ID number of patient.\n",
    "\n",
    "We aim to answer the following question:\n",
    "\n",
    "#### Can K-nearest neighbors (KNN) classification accurately diagnose heart disease using patient demographics and medical histories?"
   ]
  },
  {
   "cell_type": "markdown",
   "id": "cd4279a6-dfdb-45a0-b267-3060fba80c00",
   "metadata": {},
   "source": [
    "### Preliminary exploratory data analysis"
   ]
  },
  {
   "cell_type": "code",
   "execution_count": 1,
   "id": "e5807e81-921b-46ac-88e5-1ba123b5edc2",
   "metadata": {
    "tags": []
   },
   "outputs": [
    {
     "name": "stderr",
     "output_type": "stream",
     "text": [
      "── \u001b[1mAttaching packages\u001b[22m ─────────────────────────────────────── tidyverse 1.3.2 ──\n",
      "\u001b[32m✔\u001b[39m \u001b[34mggplot2\u001b[39m 3.4.2     \u001b[32m✔\u001b[39m \u001b[34mpurrr  \u001b[39m 1.0.1\n",
      "\u001b[32m✔\u001b[39m \u001b[34mtibble \u001b[39m 3.2.1     \u001b[32m✔\u001b[39m \u001b[34mdplyr  \u001b[39m 1.1.1\n",
      "\u001b[32m✔\u001b[39m \u001b[34mtidyr  \u001b[39m 1.3.0     \u001b[32m✔\u001b[39m \u001b[34mstringr\u001b[39m 1.5.0\n",
      "\u001b[32m✔\u001b[39m \u001b[34mreadr  \u001b[39m 2.1.3     \u001b[32m✔\u001b[39m \u001b[34mforcats\u001b[39m 0.5.2\n",
      "── \u001b[1mConflicts\u001b[22m ────────────────────────────────────────── tidyverse_conflicts() ──\n",
      "\u001b[31m✖\u001b[39m \u001b[34mdplyr\u001b[39m::\u001b[32mfilter()\u001b[39m masks \u001b[34mstats\u001b[39m::filter()\n",
      "\u001b[31m✖\u001b[39m \u001b[34mdplyr\u001b[39m::\u001b[32mlag()\u001b[39m    masks \u001b[34mstats\u001b[39m::lag()\n",
      "── \u001b[1mAttaching packages\u001b[22m ────────────────────────────────────── tidymodels 1.0.0 ──\n",
      "\n",
      "\u001b[32m✔\u001b[39m \u001b[34mbroom       \u001b[39m 1.0.2     \u001b[32m✔\u001b[39m \u001b[34mrsample     \u001b[39m 1.1.1\n",
      "\u001b[32m✔\u001b[39m \u001b[34mdials       \u001b[39m 1.1.0     \u001b[32m✔\u001b[39m \u001b[34mtune        \u001b[39m 1.0.1\n",
      "\u001b[32m✔\u001b[39m \u001b[34minfer       \u001b[39m 1.0.4     \u001b[32m✔\u001b[39m \u001b[34mworkflows   \u001b[39m 1.1.2\n",
      "\u001b[32m✔\u001b[39m \u001b[34mmodeldata   \u001b[39m 1.0.1     \u001b[32m✔\u001b[39m \u001b[34mworkflowsets\u001b[39m 1.0.0\n",
      "\u001b[32m✔\u001b[39m \u001b[34mparsnip     \u001b[39m 1.0.3     \u001b[32m✔\u001b[39m \u001b[34myardstick   \u001b[39m 1.1.0\n",
      "\u001b[32m✔\u001b[39m \u001b[34mrecipes     \u001b[39m 1.0.4     \n",
      "\n",
      "── \u001b[1mConflicts\u001b[22m ───────────────────────────────────────── tidymodels_conflicts() ──\n",
      "\u001b[31m✖\u001b[39m \u001b[34mscales\u001b[39m::\u001b[32mdiscard()\u001b[39m masks \u001b[34mpurrr\u001b[39m::discard()\n",
      "\u001b[31m✖\u001b[39m \u001b[34mdplyr\u001b[39m::\u001b[32mfilter()\u001b[39m   masks \u001b[34mstats\u001b[39m::filter()\n",
      "\u001b[31m✖\u001b[39m \u001b[34mrecipes\u001b[39m::\u001b[32mfixed()\u001b[39m  masks \u001b[34mstringr\u001b[39m::fixed()\n",
      "\u001b[31m✖\u001b[39m \u001b[34mdplyr\u001b[39m::\u001b[32mlag()\u001b[39m      masks \u001b[34mstats\u001b[39m::lag()\n",
      "\u001b[31m✖\u001b[39m \u001b[34myardstick\u001b[39m::\u001b[32mspec()\u001b[39m masks \u001b[34mreadr\u001b[39m::spec()\n",
      "\u001b[31m✖\u001b[39m \u001b[34mrecipes\u001b[39m::\u001b[32mstep()\u001b[39m   masks \u001b[34mstats\u001b[39m::step()\n",
      "\u001b[34m•\u001b[39m Use suppressPackageStartupMessages() to eliminate package startup messages\n",
      "\n",
      "Warning message in file(filename, \"r\", encoding = encoding):\n",
      "“cannot open file 'tests.R': No such file or directory”\n"
     ]
    },
    {
     "ename": "ERROR",
     "evalue": "Error in file(filename, \"r\", encoding = encoding): cannot open the connection\n",
     "output_type": "error",
     "traceback": [
      "Error in file(filename, \"r\", encoding = encoding): cannot open the connection\nTraceback:\n",
      "1. source(\"tests.R\")",
      "2. file(filename, \"r\", encoding = encoding)"
     ]
    }
   ],
   "source": [
    "library(tidyverse)\n",
    "library(repr)\n",
    "library(tidymodels)\n",
    "options(repr.matrix.max.rows = 6)\n",
    "source('tests.R')\n",
    "source('cleanup.R')\n",
    "# install.packages(\"cowplot\")\n",
    "# library(cowplot)\n",
    "# library(scales)"
   ]
  },
  {
   "cell_type": "code",
   "execution_count": null,
   "id": "61c480ce-0b5a-4f40-b9e9-6ca32e0cdb83",
   "metadata": {
    "tags": []
   },
   "outputs": [],
   "source": [
    "# install.packages(\"readr\")\n",
    "# library(readr)"
   ]
  },
  {
   "cell_type": "code",
   "execution_count": 2,
   "id": "3a172c09-3966-4e77-959a-601afcf5eac5",
   "metadata": {
    "tags": []
   },
   "outputs": [
    {
     "name": "stderr",
     "output_type": "stream",
     "text": [
      "\u001b[1mRows: \u001b[22m\u001b[34m920\u001b[39m \u001b[1mColumns: \u001b[22m\u001b[34m16\u001b[39m\n",
      "\u001b[36m──\u001b[39m \u001b[1mColumn specification\u001b[22m \u001b[36m────────────────────────────────────────────────────────\u001b[39m\n",
      "\u001b[1mDelimiter:\u001b[22m \",\"\n",
      "\u001b[31mchr\u001b[39m (6): sex, dataset, cp, restecg, slope, thal\n",
      "\u001b[32mdbl\u001b[39m (8): id, age, trestbps, chol, thalch, oldpeak, ca, num\n",
      "\u001b[33mlgl\u001b[39m (2): fbs, exang\n",
      "\n",
      "\u001b[36mℹ\u001b[39m Use `spec()` to retrieve the full column specification for this data.\n",
      "\u001b[36mℹ\u001b[39m Specify the column types or set `show_col_types = FALSE` to quiet this message.\n"
     ]
    },
    {
     "data": {
      "text/html": [
       "<table class=\"dataframe\">\n",
       "<caption>A tibble: 6 × 9</caption>\n",
       "<thead>\n",
       "\t<tr><th scope=col>id</th><th scope=col>age</th><th scope=col>sex</th><th scope=col>cp</th><th scope=col>trestbps</th><th scope=col>chol</th><th scope=col>fbs</th><th scope=col>restecg</th><th scope=col>num</th></tr>\n",
       "\t<tr><th scope=col>&lt;dbl&gt;</th><th scope=col>&lt;dbl&gt;</th><th scope=col>&lt;chr&gt;</th><th scope=col>&lt;chr&gt;</th><th scope=col>&lt;dbl&gt;</th><th scope=col>&lt;dbl&gt;</th><th scope=col>&lt;lgl&gt;</th><th scope=col>&lt;chr&gt;</th><th scope=col>&lt;fct&gt;</th></tr>\n",
       "</thead>\n",
       "<tbody>\n",
       "\t<tr><td>1</td><td>63</td><td>Male  </td><td>typical angina </td><td>145</td><td>233</td><td> TRUE</td><td>lv hypertrophy</td><td>0</td></tr>\n",
       "\t<tr><td>2</td><td>67</td><td>Male  </td><td>asymptomatic   </td><td>160</td><td>286</td><td>FALSE</td><td>lv hypertrophy</td><td>2</td></tr>\n",
       "\t<tr><td>3</td><td>67</td><td>Male  </td><td>asymptomatic   </td><td>120</td><td>229</td><td>FALSE</td><td>lv hypertrophy</td><td>1</td></tr>\n",
       "\t<tr><td>4</td><td>37</td><td>Male  </td><td>non-anginal    </td><td>130</td><td>250</td><td>FALSE</td><td>normal        </td><td>0</td></tr>\n",
       "\t<tr><td>5</td><td>41</td><td>Female</td><td>atypical angina</td><td>130</td><td>204</td><td>FALSE</td><td>lv hypertrophy</td><td>0</td></tr>\n",
       "\t<tr><td>6</td><td>56</td><td>Male  </td><td>atypical angina</td><td>120</td><td>236</td><td>FALSE</td><td>normal        </td><td>0</td></tr>\n",
       "</tbody>\n",
       "</table>\n"
      ],
      "text/latex": [
       "A tibble: 6 × 9\n",
       "\\begin{tabular}{lllllllll}\n",
       " id & age & sex & cp & trestbps & chol & fbs & restecg & num\\\\\n",
       " <dbl> & <dbl> & <chr> & <chr> & <dbl> & <dbl> & <lgl> & <chr> & <fct>\\\\\n",
       "\\hline\n",
       "\t 1 & 63 & Male   & typical angina  & 145 & 233 &  TRUE & lv hypertrophy & 0\\\\\n",
       "\t 2 & 67 & Male   & asymptomatic    & 160 & 286 & FALSE & lv hypertrophy & 2\\\\\n",
       "\t 3 & 67 & Male   & asymptomatic    & 120 & 229 & FALSE & lv hypertrophy & 1\\\\\n",
       "\t 4 & 37 & Male   & non-anginal     & 130 & 250 & FALSE & normal         & 0\\\\\n",
       "\t 5 & 41 & Female & atypical angina & 130 & 204 & FALSE & lv hypertrophy & 0\\\\\n",
       "\t 6 & 56 & Male   & atypical angina & 120 & 236 & FALSE & normal         & 0\\\\\n",
       "\\end{tabular}\n"
      ],
      "text/markdown": [
       "\n",
       "A tibble: 6 × 9\n",
       "\n",
       "| id &lt;dbl&gt; | age &lt;dbl&gt; | sex &lt;chr&gt; | cp &lt;chr&gt; | trestbps &lt;dbl&gt; | chol &lt;dbl&gt; | fbs &lt;lgl&gt; | restecg &lt;chr&gt; | num &lt;fct&gt; |\n",
       "|---|---|---|---|---|---|---|---|---|\n",
       "| 1 | 63 | Male   | typical angina  | 145 | 233 |  TRUE | lv hypertrophy | 0 |\n",
       "| 2 | 67 | Male   | asymptomatic    | 160 | 286 | FALSE | lv hypertrophy | 2 |\n",
       "| 3 | 67 | Male   | asymptomatic    | 120 | 229 | FALSE | lv hypertrophy | 1 |\n",
       "| 4 | 37 | Male   | non-anginal     | 130 | 250 | FALSE | normal         | 0 |\n",
       "| 5 | 41 | Female | atypical angina | 130 | 204 | FALSE | lv hypertrophy | 0 |\n",
       "| 6 | 56 | Male   | atypical angina | 120 | 236 | FALSE | normal         | 0 |\n",
       "\n"
      ],
      "text/plain": [
       "  id age sex    cp              trestbps chol fbs   restecg        num\n",
       "1 1  63  Male   typical angina  145      233   TRUE lv hypertrophy 0  \n",
       "2 2  67  Male   asymptomatic    160      286  FALSE lv hypertrophy 2  \n",
       "3 3  67  Male   asymptomatic    120      229  FALSE lv hypertrophy 1  \n",
       "4 4  37  Male   non-anginal     130      250  FALSE normal         0  \n",
       "5 5  41  Female atypical angina 130      204  FALSE lv hypertrophy 0  \n",
       "6 6  56  Male   atypical angina 120      236  FALSE normal         0  "
      ]
     },
     "metadata": {},
     "output_type": "display_data"
    }
   ],
   "source": [
    "## We are using the heart disease data. As suggested by the professor we downloaded the csv file from kaggle and uploaded it into our notebook\n",
    "\n",
    "file_path <- \"data/heart_disease_uci.csv\"\n",
    "\n",
    "heart_disease_uci <- read_csv(file_path)\n",
    "\n",
    "# selecting only the rows we need and Change 'num' to a factor\n",
    "heart_disease_data <- heart_disease_uci |> \n",
    "         select(id, age, sex, cp, trestbps, chol, fbs, restecg, num) |>\n",
    "         mutate(num = as.factor(num))\n",
    "\n",
    "# Change 'num' to a factor\n",
    "# heart_disease_data$num <- factor(heart_disease_data$num, levels = c(0, 1), labels = c(\"No Heart Disease\", \"Heart Disease\"))\n",
    "\n",
    "\n",
    "# heart_disease_data <- heart_disease_data |>\n",
    "#   mutate(\n",
    "#     sex = factor(sex, levels = c(0, 1), labels = c(\"Female\", \"Male\")),  # Recode 'sex'\n",
    "#     cp = factor(cp, levels = c(1, 2, 3, 4), labels = c(\"Typical Angina\", \"Atypical Angina\", \"Non-Anginal Pain\", \"Asymptomatic\")),  # Recode 'cp'\n",
    "#     fbs = factor(fbs, levels = c(0, 1), labels = c(\"<= 120 mg/dL\", \"> 120 mg/dL\")),  # Recode 'fbs'\n",
    "#     restecg = factor(restecg, levels = c(0, 1, 2), labels = c(\"Normal\", \"ST-T Wave Abnormality\", \"Left Ventricular Hypertrophy\"))  # Recode 'restecg'\n",
    "#   )\n",
    "\n",
    "# Print the first few rows of the modified dataset\n",
    "head(heart_disease_data)"
   ]
  },
  {
   "cell_type": "markdown",
   "id": "de895572-6cfe-45f0-84dd-cd51addbc125",
   "metadata": {},
   "source": [
    "# Methods\n",
    "\n",
    "We will be conducting our data analysis by examining four numerical variables, maximum heart rate achieved (thalach), resting blood pressures (trestbps), serum cholesterol (chol), and the number of major vessels coloured by fluoroscopy (ca), in order to classify and predict the diagnosis of heart disease in a patient. \n",
    "\n",
    "One way that we will visualize the results is by creating multiple scatterplots wherein we will first standardize each variable then distinguish them by colour/shape in order to plot data points then examine the relationships between variables. Then with these graphs, we will then be able to use K-nearest neighbors to predict new observations and further classify the presence of heart disease in a patient. \n"
   ]
  },
  {
   "cell_type": "code",
   "execution_count": null,
   "id": "78f4261b-6ec6-4838-a041-0419cd18d359",
   "metadata": {},
   "outputs": [],
   "source": []
  }
 ],
 "metadata": {
  "kernelspec": {
   "display_name": "R",
   "language": "R",
   "name": "ir"
  },
  "language_info": {
   "codemirror_mode": "r",
   "file_extension": ".r",
   "mimetype": "text/x-r-source",
   "name": "R",
   "pygments_lexer": "r",
   "version": "4.2.2"
  }
 },
 "nbformat": 4,
 "nbformat_minor": 5
}
