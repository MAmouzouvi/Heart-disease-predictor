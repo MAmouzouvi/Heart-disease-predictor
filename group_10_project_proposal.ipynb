{
 "cells": [
  {
   "cell_type": "markdown",
   "id": "e45856a9-c55a-4f80-91a9-450175ea5846",
   "metadata": {
    "tags": []
   },
   "source": [
    "# Project Proposal — Heart Disease Prediction\n",
    "\n",
    "## 1 - Introduction\n",
    "\n",
    "Heart disease and its effective diagnosis is a global health challenge. In this proposal, we aim to address diagnosing heart diseases using machine learning techniques. We will attempt to detect the presence of heart disease in patients by leveraging a heart disease dataset obtained from Kaggle. The diagnosis (presence) ranges from 0 (no presence) to 4. However, our focus will be on distinguishing between the presence and absence of heart disease.\n",
    "\n",
    "The original dataset consists of 16 variables, but we will focus on the following six variables.\n",
    "\n",
    "1. **Id (id)** : patient Id \n",
    "2. **Age (age)**: Age of the patient.\n",
    "3. **Resting Blood Pressure (trestbps)**: in mm Hg.\n",
    "4. **Serum Cholesterol (chol)**: Serum cholesterol level in mg/dL.\n",
    "5. **thalach (thalch)** : maximum heart rate  \n",
    "6. **Heart Disease (presence)**: representing the degree of blockages or narrowing in major vessels.\n",
    "   - P (present): < 50% diameter narrowing\n",
    "   - N (non-present): > 50% diameter narrowing\n",
    "\n",
    "We aim to answer the following question:\n",
    "\n",
    "#### Can our K-nearest neighbors (KNN) classification effectively diagnose heart disease using age, heart rate, blood pressure, and cholesterol levels?\n"
   ]
  },
  {
   "cell_type": "markdown",
   "id": "cd4279a6-dfdb-45a0-b267-3060fba80c00",
   "metadata": {},
   "source": [
    "## 2 - Preliminary exploratory data analysis"
   ]
  },
  {
   "cell_type": "markdown",
   "id": "95ffb815-02ab-4514-9b26-11774588a336",
   "metadata": {},
   "source": [
    " ### 2.a. Data Cleaninng, wrangling and Table Summary"
   ]
  },
  {
   "cell_type": "code",
   "execution_count": 1,
   "id": "e5807e81-921b-46ac-88e5-1ba123b5edc2",
   "metadata": {
    "tags": []
   },
   "outputs": [
    {
     "name": "stderr",
     "output_type": "stream",
     "text": [
      "── \u001b[1mAttaching packages\u001b[22m ─────────────────────────────────────── tidyverse 1.3.2 ──\n",
      "\u001b[32m✔\u001b[39m \u001b[34mggplot2\u001b[39m 3.4.2     \u001b[32m✔\u001b[39m \u001b[34mpurrr  \u001b[39m 1.0.1\n",
      "\u001b[32m✔\u001b[39m \u001b[34mtibble \u001b[39m 3.2.1     \u001b[32m✔\u001b[39m \u001b[34mdplyr  \u001b[39m 1.1.1\n",
      "\u001b[32m✔\u001b[39m \u001b[34mtidyr  \u001b[39m 1.3.0     \u001b[32m✔\u001b[39m \u001b[34mstringr\u001b[39m 1.5.0\n",
      "\u001b[32m✔\u001b[39m \u001b[34mreadr  \u001b[39m 2.1.3     \u001b[32m✔\u001b[39m \u001b[34mforcats\u001b[39m 0.5.2\n",
      "── \u001b[1mConflicts\u001b[22m ────────────────────────────────────────── tidyverse_conflicts() ──\n",
      "\u001b[31m✖\u001b[39m \u001b[34mdplyr\u001b[39m::\u001b[32mfilter()\u001b[39m masks \u001b[34mstats\u001b[39m::filter()\n",
      "\u001b[31m✖\u001b[39m \u001b[34mdplyr\u001b[39m::\u001b[32mlag()\u001b[39m    masks \u001b[34mstats\u001b[39m::lag()\n",
      "── \u001b[1mAttaching packages\u001b[22m ────────────────────────────────────── tidymodels 1.0.0 ──\n",
      "\n",
      "\u001b[32m✔\u001b[39m \u001b[34mbroom       \u001b[39m 1.0.2     \u001b[32m✔\u001b[39m \u001b[34mrsample     \u001b[39m 1.1.1\n",
      "\u001b[32m✔\u001b[39m \u001b[34mdials       \u001b[39m 1.1.0     \u001b[32m✔\u001b[39m \u001b[34mtune        \u001b[39m 1.0.1\n",
      "\u001b[32m✔\u001b[39m \u001b[34minfer       \u001b[39m 1.0.4     \u001b[32m✔\u001b[39m \u001b[34mworkflows   \u001b[39m 1.1.2\n",
      "\u001b[32m✔\u001b[39m \u001b[34mmodeldata   \u001b[39m 1.0.1     \u001b[32m✔\u001b[39m \u001b[34mworkflowsets\u001b[39m 1.0.0\n",
      "\u001b[32m✔\u001b[39m \u001b[34mparsnip     \u001b[39m 1.0.3     \u001b[32m✔\u001b[39m \u001b[34myardstick   \u001b[39m 1.1.0\n",
      "\u001b[32m✔\u001b[39m \u001b[34mrecipes     \u001b[39m 1.0.4     \n",
      "\n",
      "── \u001b[1mConflicts\u001b[22m ───────────────────────────────────────── tidymodels_conflicts() ──\n",
      "\u001b[31m✖\u001b[39m \u001b[34mscales\u001b[39m::\u001b[32mdiscard()\u001b[39m masks \u001b[34mpurrr\u001b[39m::discard()\n",
      "\u001b[31m✖\u001b[39m \u001b[34mdplyr\u001b[39m::\u001b[32mfilter()\u001b[39m   masks \u001b[34mstats\u001b[39m::filter()\n",
      "\u001b[31m✖\u001b[39m \u001b[34mrecipes\u001b[39m::\u001b[32mfixed()\u001b[39m  masks \u001b[34mstringr\u001b[39m::fixed()\n",
      "\u001b[31m✖\u001b[39m \u001b[34mdplyr\u001b[39m::\u001b[32mlag()\u001b[39m      masks \u001b[34mstats\u001b[39m::lag()\n",
      "\u001b[31m✖\u001b[39m \u001b[34myardstick\u001b[39m::\u001b[32mspec()\u001b[39m masks \u001b[34mreadr\u001b[39m::spec()\n",
      "\u001b[31m✖\u001b[39m \u001b[34mrecipes\u001b[39m::\u001b[32mstep()\u001b[39m   masks \u001b[34mstats\u001b[39m::step()\n",
      "\u001b[34m•\u001b[39m Use suppressPackageStartupMessages() to eliminate package startup messages\n",
      "\n",
      "Warning message in file(filename, \"r\", encoding = encoding):\n",
      "“cannot open file 'tests.R': No such file or directory”\n"
     ]
    },
    {
     "ename": "ERROR",
     "evalue": "Error in file(filename, \"r\", encoding = encoding): cannot open the connection\n",
     "output_type": "error",
     "traceback": [
      "Error in file(filename, \"r\", encoding = encoding): cannot open the connection\nTraceback:\n",
      "1. source(\"tests.R\")",
      "2. file(filename, \"r\", encoding = encoding)"
     ]
    }
   ],
   "source": [
    "library(tidyverse)\n",
    "library(repr)\n",
    "library(dplyr)\n",
    "library(tidymodels)\n",
    "options(repr.matrix.max.rows = 6)\n",
    "source('tests.R')\n",
    "source('cleanup.R')"
   ]
  },
  {
   "cell_type": "code",
   "execution_count": null,
   "id": "3a172c09-3966-4e77-959a-601afcf5eac5",
   "metadata": {
    "tags": []
   },
   "outputs": [],
   "source": [
    "\n",
    "## We are using the heart disease data. As suggested by the professor we downloaded the csv file from kaggle and uploaded it into our notebook\n",
    "\n",
    "url <- \"https://raw.githubusercontent.com/MAmouzouvi/dsci-100-2022w1-group-10/main/data/heart_disease_uci.csv\"\n",
    "\n",
    "heart_disease_uci <- read_csv(url)\n",
    "\n",
    "# selecting only the rows we need and Change 'num' to a factor\n",
    "heart_disease_data <- heart_disease_uci |> \n",
    "         rename(presence = num) |>\n",
    "         select(id, age, trestbps, chol, thalch, presence) |>\n",
    "         mutate(presence = ifelse(presence == 0, \"N\", \"P\"),\n",
    "                presence = as.factor(presence))\n",
    "heart_disease_data\n",
    "# Print the first few rows of the modified dataset\n",
    "# head(heart_disease_data)\n",
    "\n",
    "set.seed(3456)\n",
    "\n",
    "# Split the heart disease data into training and testing sets \n",
    "heart_disease_split <- initial_split(heart_disease_data, prop = 0.75, strata = presence)  \n",
    "heart_disease_train <- training(heart_disease_split)   \n",
    "heart_disease_test <- testing(heart_disease_split)\n",
    "\n",
    "# Table that reports the number of observations per variable (missing values removed)\n",
    "observations_per_variable_tbl <- heart_disease_train |>\n",
    "  summarize(across(age:thalch, ~ sum(!is.na(.)))) |>\n",
    "  pivot_longer(cols = everything(), names_to = \"Variable\", values_to = \"number_of_observations\")\n",
    "\n",
    "# Table that reports the number of observations in presence (N vs P)\n",
    "presence_observations_tbl <- heart_disease_train |>\n",
    "    group_by(presence) |>\n",
    "    summarize(count = sum(!is.na(presence)))\n",
    "\n",
    "\n",
    "# table that reports the means of the predictor variable\n",
    "mean_of_predictors_tbl <- heart_disease_train |>\n",
    "  summarize(across(age:thalch, ~ mean(., na.rm = TRUE))) |>\n",
    "  pivot_longer(cols = everything(), names_to = \"Variable\", values_to = \"Mean\")\n",
    "\n",
    "# table that reports the number of rows with missing data\n",
    "number_of_missing_values <- sum(rowSums(is.na(heart_disease_train)))\n",
    "\n",
    "observations_per_variable_tbl\n",
    "presence_observations_tbl\n",
    "mean_of_predictors_tbl\n",
    "number_of_missing_values"
   ]
  },
  {
   "cell_type": "markdown",
   "id": "608dd484-ee1d-47a7-97f6-1b43e2664dae",
   "metadata": {},
   "source": [
    "#### 2.b. Visualization"
   ]
  },
  {
   "cell_type": "code",
   "execution_count": null,
   "id": "c9aefbe6-aac8-46ee-92b6-341e4305ce9d",
   "metadata": {
    "tags": []
   },
   "outputs": [],
   "source": [
    "\n",
    "\n",
    "# standardizing the data\n",
    "heart_disease_train_recipe  <- recipe(presence ~ age + trestbps + chol + thalch ,data = heart_disease_train) |>\n",
    "                       step_center(all_predictors()) |>\n",
    "                       step_scale(all_predictors())\n",
    "\n",
    "heart_disease_train_scaled <- heart_disease_train_recipe |>  \n",
    "                           prep() |> \n",
    "                           bake(heart_disease_train)\n",
    "\n",
    "\n",
    "\n",
    "# Scatter plots of age vs resting blood pressure (trestbps)\n",
    "# by presence of heart disease with facets\n",
    "\n",
    "options(repr.plot.width = 8, repr.plot.height = 6)\n",
    "\n",
    "ggplot(heart_disease_train_scaled, aes(x = age, y = trestbps, color = presence)) +\n",
    "  geom_point(size = 1.2) +  # Adjust the size value as needed\n",
    "  labs(title = \"Age vs Resting Blood Pressure by Heart Disease Presence\",\n",
    "       x = \"Age\",\n",
    "       y = \"Resting Blood Pressure in mm Hg\",\n",
    "       color = \"Presence\")"
   ]
  },
  {
   "cell_type": "code",
   "execution_count": null,
   "id": "f05837c5-6c82-496a-a60d-8d83dbf67059",
   "metadata": {
    "tags": []
   },
   "outputs": [],
   "source": [
    "# Scatter plot of serum cholesterol vs. maximum heart rate (thalch) colored by presence of heart disease\n",
    "\n",
    "ggplot(heart_disease_train_scaled, aes(x = chol, y = thalch, color = presence)) +\n",
    "  geom_point(size = 1.2) +  # Adjust the size value as needed\n",
    "  labs(title = \"serum cholesterol vs maximum heart rate by Heart Disease Presence\",\n",
    "       x = \"serum cholesterol in mg/dl\",\n",
    "       y = \"maximum heart rate\",\n",
    "       color = \"Presence\")"
   ]
  },
  {
   "cell_type": "code",
   "execution_count": null,
   "id": "4ba88770-8998-48f6-881c-209a84c42bfd",
   "metadata": {
    "tags": []
   },
   "outputs": [],
   "source": [
    "# Scatter plot of resting blood pressure vs. maximum heart rate colored by presence of heart disease\n",
    "\n",
    "ggplot(heart_disease_train_scaled, aes(x = trestbps, y = thalch, color = presence)) +\n",
    "  geom_point(size = 1.2) +  # Adjust the size value as needed\n",
    "  labs(title = \"Serum cholesterol vs fasting blood sugar by Heart Disease Presence\",\n",
    "       x = \"resting blood pressure in mm Hg\",\n",
    "       y = \"maximum heart rate\",\n",
    "       color = \"Presence\")"
   ]
  },
  {
   "cell_type": "markdown",
   "id": "94469d92-d34d-487a-858f-7a5470d67a4d",
   "metadata": {
    "tags": []
   },
   "source": [
    "## 3 - Method\n"
   ]
  },
  {
   "cell_type": "markdown",
   "id": "2d2cef5f-2bf6-4242-9264-984680b56760",
   "metadata": {},
   "source": [
    "First, we will import the dataset and perform data processing. This includes handling any missing values, addressing outliers, and standardizing our selected numerical predictors : age (age), maximum heart rate achieved (thalch), resting blood pressure (trestbps),and serum cholesterol (chol). \n",
    "\n",
    "Next, we will split the data into training and testing sets to develop and train  our classification model. We will use the K-nearest neighbors algorithm, setting an appropriate value for 'K' through cross-validation.\n",
    "\n",
    "After standardizing our predictors we will create multiple scatterplots or colour code bar-charts  for the presence (P) or absence (N) of heart disease. Through visualization, we aim to discern any patterns or correlations between the variables (such as Age and Serum Cholesterol), which will aid in understanding their individual impacts on heart disease diagnosis.\n",
    "\n",
    "Subsequently, we will proceed to fit the K-nearest neighbors model to the training data. Using the testing data, we will assess the model's performance. These tools will enable us to comprehensively evaluate the classifier's efficacy in accurately predicting the presence of heart disease.\n"
   ]
  },
  {
   "cell_type": "markdown",
   "id": "12580026-aa22-40c4-bbe0-0d972dd65e6f",
   "metadata": {},
   "source": [
    "## 4 - Expected Outcomes and Significance"
   ]
  },
  {
   "cell_type": "markdown",
   "id": "ba742bd8-df97-4964-9bd5-5002d352bfb0",
   "metadata": {},
   "source": [
    "Our group expect to find whether K-nearest neighbors classification is an effective method for diagnosing heart disease based on our predictors. We also expect to evaluate the model's performance in terms of accuracy, sensitivity, and recall ratios.\n",
    "\n",
    "The Impacts of the Project Findings:\n",
    "If KNN proves to be effective, it could contribute to a quicker and more effective diagnosis of heart disease and help professionals make more informed treatment options. This can significantly reduce healthcare expenses—decreasing unnecessary procedures. \n",
    "\n",
    "Future Questions:\n",
    "- Are our proposals considered variables the most informative for heart disease diagnosis, or are there other key features that should be considered?\n",
    "- How does knn performance compare to other machine learning algorithms or traditional diagnostic methods in diagnosing heart disease?\n",
    "\n",
    "\n"
   ]
  },
  {
   "cell_type": "code",
   "execution_count": null,
   "id": "7f10e0e6-8563-443c-b769-811f1a09e5f2",
   "metadata": {},
   "outputs": [],
   "source": []
  }
 ],
 "metadata": {
  "kernelspec": {
   "display_name": "R",
   "language": "R",
   "name": "ir"
  },
  "language_info": {
   "codemirror_mode": "r",
   "file_extension": ".r",
   "mimetype": "text/x-r-source",
   "name": "R",
   "pygments_lexer": "r",
   "version": "4.2.2"
  }
 },
 "nbformat": 4,
 "nbformat_minor": 5
}
