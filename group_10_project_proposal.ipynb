{
 "cells": [
  {
   "cell_type": "markdown",
   "id": "e45856a9-c55a-4f80-91a9-450175ea5846",
   "metadata": {
    "tags": []
   },
   "source": [
    "# Project Proposal — Heart Disease Prediction\n",
    "\n",
    "## Introduction\n",
    "\n",
    "Cardiovascular diseases, particularly heart disease, pose a significant global health challenge. Accurate diagnosis is crucial for effective patient care. In this proposal, we aim to address the question of diagnosing heart disease using machine learning techniques. Specifically, we will attempt to detect the presence of heart disease in patients by leveraging a heart disease dataset obtained from Kaggle. The diagnosis (num) ranges from 0 (no presence) to 4. However, our focus will be on distinguishing between the presence (values 1, 2, 3, 4) and absence (value 0) of heart disease.\n",
    "\n",
    "The dataset consists of 16 variables, but for the purpose of this project, we will focus on a subset of 8-10 variables. Below is the description of the selected variables:\n",
    "\n",
    "1. **Age (age) **: Age of the patient.\n",
    "2. **Sex (age) **: Gender of the patient (1 = male, 0 = female).\n",
    "3. **Chest Pain Type (cp)**:\n",
    "   - Value 1: Typical angina\n",
    "   - Value 2: Atypical angina\n",
    "   - Value 3: Non-anginal pain\n",
    "   - Value 4: Asymptomatic\n",
    "4. **Resting Blood Pressure (trestbps)**: Measured in mm Hg upon hospital admission.\n",
    "5. **Serum Cholesterol (chol)**: Serum cholesterol level in mg/dL.\n",
    "6. **Fasting Blood Sugar (fbs)**:\n",
    "   - 1 = Fasting blood sugar > 120 mg/dL\n",
    "   - 0 = Fasting blood sugar <= 120 mg/dL\n",
    "7. **Resting Electrocardiographic Results (restecg)**:\n",
    "   - Value 0: Normal\n",
    "   - Value 1: ST-T wave abnormality (T wave inversions and/or ST elevation or depression of > 0.05 mV)\n",
    "   - Value 2: Probable or definite left ventricular hypertrophy by Estes' criteria\n",
    "8. **Diagnosis of Heart Disease (num)**: Angiographic disease status, representing the degree of blockages or narrowing in major vessels.\n",
    "   - Value 0: < 50% diameter narrowing\n",
    "   - Value 1: > 50% diameter narrowing (in any major vessel; attributes 59 through 68 represent vessels)\n",
    "   \n",
    "9. **Identity (id) **: ID number of patient.\n",
    "\n",
    "We aim to answer the following question:\n",
    "\n",
    "#### Can K-nearest neighbors (KNN) classification accurately diagnose heart disease using patient demographics and medical histories?"
   ]
  },
  {
   "cell_type": "markdown",
   "id": "cd4279a6-dfdb-45a0-b267-3060fba80c00",
   "metadata": {},
   "source": [
    "### Preliminary exploratory data analysis"
   ]
  },
  {
   "cell_type": "code",
   "execution_count": 17,
   "id": "e5807e81-921b-46ac-88e5-1ba123b5edc2",
   "metadata": {
    "tags": []
   },
   "outputs": [
    {
     "name": "stderr",
     "output_type": "stream",
     "text": [
      "── \u001b[1mAttaching packages\u001b[22m ────────────────────────────────────── tidymodels 1.0.0 ──\n",
      "\n",
      "\u001b[32m✔\u001b[39m \u001b[34mbroom       \u001b[39m 1.0.2     \u001b[32m✔\u001b[39m \u001b[34mrsample     \u001b[39m 1.1.1\n",
      "\u001b[32m✔\u001b[39m \u001b[34mdials       \u001b[39m 1.1.0     \u001b[32m✔\u001b[39m \u001b[34mtune        \u001b[39m 1.0.1\n",
      "\u001b[32m✔\u001b[39m \u001b[34minfer       \u001b[39m 1.0.4     \u001b[32m✔\u001b[39m \u001b[34mworkflows   \u001b[39m 1.1.2\n",
      "\u001b[32m✔\u001b[39m \u001b[34mmodeldata   \u001b[39m 1.0.1     \u001b[32m✔\u001b[39m \u001b[34mworkflowsets\u001b[39m 1.0.0\n",
      "\u001b[32m✔\u001b[39m \u001b[34mparsnip     \u001b[39m 1.0.3     \u001b[32m✔\u001b[39m \u001b[34myardstick   \u001b[39m 1.1.0\n",
      "\u001b[32m✔\u001b[39m \u001b[34mrecipes     \u001b[39m 1.0.4     \n",
      "\n",
      "── \u001b[1mConflicts\u001b[22m ───────────────────────────────────────── tidymodels_conflicts() ──\n",
      "\u001b[31m✖\u001b[39m \u001b[34mscales\u001b[39m::\u001b[32mdiscard()\u001b[39m masks \u001b[34mpurrr\u001b[39m::discard()\n",
      "\u001b[31m✖\u001b[39m \u001b[34mdplyr\u001b[39m::\u001b[32mfilter()\u001b[39m   masks \u001b[34mstats\u001b[39m::filter()\n",
      "\u001b[31m✖\u001b[39m \u001b[34mrecipes\u001b[39m::\u001b[32mfixed()\u001b[39m  masks \u001b[34mstringr\u001b[39m::fixed()\n",
      "\u001b[31m✖\u001b[39m \u001b[34mdplyr\u001b[39m::\u001b[32mlag()\u001b[39m      masks \u001b[34mstats\u001b[39m::lag()\n",
      "\u001b[31m✖\u001b[39m \u001b[34myardstick\u001b[39m::\u001b[32mspec()\u001b[39m masks \u001b[34mreadr\u001b[39m::spec()\n",
      "\u001b[31m✖\u001b[39m \u001b[34mrecipes\u001b[39m::\u001b[32mstep()\u001b[39m   masks \u001b[34mstats\u001b[39m::step()\n",
      "\u001b[34m•\u001b[39m Search for functions across packages at \u001b[32mhttps://www.tidymodels.org/find/\u001b[39m\n",
      "\n",
      "Warning message in file(filename, \"r\", encoding = encoding):\n",
      "“cannot open file 'tests.R': No such file or directory”\n"
     ]
    },
    {
     "ename": "ERROR",
     "evalue": "Error in file(filename, \"r\", encoding = encoding): cannot open the connection\n",
     "output_type": "error",
     "traceback": [
      "Error in file(filename, \"r\", encoding = encoding): cannot open the connection\nTraceback:\n",
      "1. source(\"tests.R\")",
      "2. file(filename, \"r\", encoding = encoding)"
     ]
    }
   ],
   "source": [
    "library(tidyverse)\n",
    "library(repr)\n",
    "library(tidymodels)\n",
    "options(repr.matrix.max.rows = 6)\n",
    "source('tests.R')\n",
    "source('cleanup.R')\n",
    "# install.packages(\"cowplot\")\n",
    "# library(cowplot)\n",
    "# library(scales)"
   ]
  },
  {
   "cell_type": "code",
   "execution_count": 2,
   "id": "61c480ce-0b5a-4f40-b9e9-6ca32e0cdb83",
   "metadata": {
    "tags": []
   },
   "outputs": [
    {
     "name": "stderr",
     "output_type": "stream",
     "text": [
      "Updating HTML index of packages in '.Library'\n",
      "\n",
      "Making 'packages.html' ...\n",
      " done\n",
      "\n"
     ]
    }
   ],
   "source": [
    "# install.packages(\"readr\")\n",
    "# library(readr)"
   ]
  },
  {
   "cell_type": "code",
   "execution_count": null,
   "id": "3a172c09-3966-4e77-959a-601afcf5eac5",
   "metadata": {
    "tags": []
   },
   "outputs": [],
   "source": [
    "## We are using the heart disease data. As suggested by the professor we downloaded the csv file from kaggle and uploaded it into our notebook\n",
    "\n",
    "file_path <- \"data/heart_disease_uci.csv\"\n",
    "\n",
    "heart_disease_uci <- read_csv(file_path)\n",
    "\n",
    "# selecting only the rows we need and Change 'num' to a factor\n",
    "heart_disease_data <- heart_disease_uci |> \n",
    "         select(id, age, sex, cp, trestbps, chol, fbs, restecg, num) |>\n",
    "         mutate(num = as.factor(num))\n",
    "\n",
    "# Change 'num' to a factor\n",
    "# heart_disease_data$num <- factor(heart_disease_data$num, levels = c(0, 1), labels = c(\"No Heart Disease\", \"Heart Disease\"))\n",
    "\n",
    "\n",
    "# heart_disease_data <- heart_disease_data |>\n",
    "#   mutate(\n",
    "#     sex = factor(sex, levels = c(0, 1), labels = c(\"Female\", \"Male\")),  # Recode 'sex'\n",
    "#     cp = factor(cp, levels = c(1, 2, 3, 4), labels = c(\"Typical Angina\", \"Atypical Angina\", \"Non-Anginal Pain\", \"Asymptomatic\")),  # Recode 'cp'\n",
    "#     fbs = factor(fbs, levels = c(0, 1), labels = c(\"<= 120 mg/dL\", \"> 120 mg/dL\")),  # Recode 'fbs'\n",
    "#     restecg = factor(restecg, levels = c(0, 1, 2), labels = c(\"Normal\", \"ST-T Wave Abnormality\", \"Left Ventricular Hypertrophy\"))  # Recode 'restecg'\n",
    "#   )\n",
    "\n",
    "# Print the first few rows of the modified dataset\n",
    "head(heart_disease_data)"
   ]
  },
  {
   "cell_type": "code",
   "execution_count": null,
   "id": "585ada3b-3996-47f2-98bd-2c2776716f1e",
   "metadata": {},
   "outputs": [],
   "source": [
    "# blblala"
   ]
  },
  {
   "cell_type": "code",
   "execution_count": null,
   "id": "78f4261b-6ec6-4838-a041-0419cd18d359",
   "metadata": {},
   "outputs": [],
   "source": []
  }
 ],
 "metadata": {
  "kernelspec": {
   "display_name": "R",
   "language": "R",
   "name": "ir"
  },
  "language_info": {
   "codemirror_mode": "r",
   "file_extension": ".r",
   "mimetype": "text/x-r-source",
   "name": "R",
   "pygments_lexer": "r",
   "version": "4.2.2"
  }
 },
 "nbformat": 4,
 "nbformat_minor": 5
}
