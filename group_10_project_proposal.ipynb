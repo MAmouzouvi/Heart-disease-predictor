{
 "cells": [
  {
   "cell_type": "markdown",
   "id": "e45856a9-c55a-4f80-91a9-450175ea5846",
   "metadata": {
    "tags": []
   },
   "source": [
    "# Project Proposal — Heart Disease Prediction\n",
    "\n",
    "## Introduction\n",
    "\n",
    "Cardiovascular diseases, particularly heart disease, pose a significant global health challenge. Accurate diagnosis is crucial for effective patient care. In this proposal, we aim to address the question of diagnosing heart disease using machine learning techniques. Specifically, we will attempt to detect the presence of heart disease in patients by leveraging a heart disease dataset obtained from Kaggle. The diagnosis (num) ranges from 0 (no presence) to 4. However, our focus will be on distinguishing between the presence (values 1, 2, 3, 4) and absence (value 0) of heart disease.\n",
    "\n",
    "The dataset consists of 16 variables, but for the purpose of this project, we will focus on a subset of 6 variables. Below is the description of the selected variables:\n",
    "\n",
    "1. **Id (id ) : patient Id num\n",
    "2. **Age (age) **: Age of the patient.\n",
    "2. **Resting Blood Pressure (trestbps)**: Measured in mm Hg upon hospital admission.\n",
    "3. **Serum Cholesterol (chol)**: Serum cholesterol level in mg/dL.\n",
    "4. **Thalach (thalch)**: maximum heart rate achieved\n",
    "5. **ca** : number of major vessels (0-3) colored by flourosopy\n",
    "6. **Diagnosis of Heart Disease (presence)**: Angiographic disease status, representing the degree of blockages or narrowing in major vessels.\n",
    "   - Value P (present): < 50% diameter narrowing\n",
    "   - Value N (non-present): > 50% diameter narrowing (in any major vessel; attributes 59 through 68 represent vessels)\n",
    "\n",
    "\n",
    "We aim to answer the following question:\n",
    "\n",
    "#### Can K-nearest neighbors (KNN) classification accurately diagnose heart disease using only blood pressure, cholesterol levels, blood sugar and number of vessels?\n"
   ]
  },
  {
   "cell_type": "markdown",
   "id": "cd4279a6-dfdb-45a0-b267-3060fba80c00",
   "metadata": {},
   "source": [
    "### Preliminary exploratory data analysis"
   ]
  },
  {
   "cell_type": "code",
   "execution_count": 1,
   "id": "e5807e81-921b-46ac-88e5-1ba123b5edc2",
   "metadata": {
    "tags": []
   },
   "outputs": [
    {
     "name": "stderr",
     "output_type": "stream",
     "text": [
      "── \u001b[1mAttaching packages\u001b[22m ─────────────────────────────────────── tidyverse 1.3.2 ──\n",
      "\u001b[32m✔\u001b[39m \u001b[34mggplot2\u001b[39m 3.4.2     \u001b[32m✔\u001b[39m \u001b[34mpurrr  \u001b[39m 1.0.1\n",
      "\u001b[32m✔\u001b[39m \u001b[34mtibble \u001b[39m 3.2.1     \u001b[32m✔\u001b[39m \u001b[34mdplyr  \u001b[39m 1.1.1\n",
      "\u001b[32m✔\u001b[39m \u001b[34mtidyr  \u001b[39m 1.3.0     \u001b[32m✔\u001b[39m \u001b[34mstringr\u001b[39m 1.5.0\n",
      "\u001b[32m✔\u001b[39m \u001b[34mreadr  \u001b[39m 2.1.3     \u001b[32m✔\u001b[39m \u001b[34mforcats\u001b[39m 0.5.2\n",
      "── \u001b[1mConflicts\u001b[22m ────────────────────────────────────────── tidyverse_conflicts() ──\n",
      "\u001b[31m✖\u001b[39m \u001b[34mdplyr\u001b[39m::\u001b[32mfilter()\u001b[39m masks \u001b[34mstats\u001b[39m::filter()\n",
      "\u001b[31m✖\u001b[39m \u001b[34mdplyr\u001b[39m::\u001b[32mlag()\u001b[39m    masks \u001b[34mstats\u001b[39m::lag()\n",
      "── \u001b[1mAttaching packages\u001b[22m ────────────────────────────────────── tidymodels 1.0.0 ──\n",
      "\n",
      "\u001b[32m✔\u001b[39m \u001b[34mbroom       \u001b[39m 1.0.2     \u001b[32m✔\u001b[39m \u001b[34mrsample     \u001b[39m 1.1.1\n",
      "\u001b[32m✔\u001b[39m \u001b[34mdials       \u001b[39m 1.1.0     \u001b[32m✔\u001b[39m \u001b[34mtune        \u001b[39m 1.0.1\n",
      "\u001b[32m✔\u001b[39m \u001b[34minfer       \u001b[39m 1.0.4     \u001b[32m✔\u001b[39m \u001b[34mworkflows   \u001b[39m 1.1.2\n",
      "\u001b[32m✔\u001b[39m \u001b[34mmodeldata   \u001b[39m 1.0.1     \u001b[32m✔\u001b[39m \u001b[34mworkflowsets\u001b[39m 1.0.0\n",
      "\u001b[32m✔\u001b[39m \u001b[34mparsnip     \u001b[39m 1.0.3     \u001b[32m✔\u001b[39m \u001b[34myardstick   \u001b[39m 1.1.0\n",
      "\u001b[32m✔\u001b[39m \u001b[34mrecipes     \u001b[39m 1.0.4     \n",
      "\n",
      "── \u001b[1mConflicts\u001b[22m ───────────────────────────────────────── tidymodels_conflicts() ──\n",
      "\u001b[31m✖\u001b[39m \u001b[34mscales\u001b[39m::\u001b[32mdiscard()\u001b[39m masks \u001b[34mpurrr\u001b[39m::discard()\n",
      "\u001b[31m✖\u001b[39m \u001b[34mdplyr\u001b[39m::\u001b[32mfilter()\u001b[39m   masks \u001b[34mstats\u001b[39m::filter()\n",
      "\u001b[31m✖\u001b[39m \u001b[34mrecipes\u001b[39m::\u001b[32mfixed()\u001b[39m  masks \u001b[34mstringr\u001b[39m::fixed()\n",
      "\u001b[31m✖\u001b[39m \u001b[34mdplyr\u001b[39m::\u001b[32mlag()\u001b[39m      masks \u001b[34mstats\u001b[39m::lag()\n",
      "\u001b[31m✖\u001b[39m \u001b[34myardstick\u001b[39m::\u001b[32mspec()\u001b[39m masks \u001b[34mreadr\u001b[39m::spec()\n",
      "\u001b[31m✖\u001b[39m \u001b[34mrecipes\u001b[39m::\u001b[32mstep()\u001b[39m   masks \u001b[34mstats\u001b[39m::step()\n",
      "\u001b[34m•\u001b[39m Use suppressPackageStartupMessages() to eliminate package startup messages\n",
      "\n",
      "Warning message in file(filename, \"r\", encoding = encoding):\n",
      "“cannot open file 'tests.R': No such file or directory”\n"
     ]
    },
    {
     "ename": "ERROR",
     "evalue": "Error in file(filename, \"r\", encoding = encoding): cannot open the connection\n",
     "output_type": "error",
     "traceback": [
      "Error in file(filename, \"r\", encoding = encoding): cannot open the connection\nTraceback:\n",
      "1. source(\"tests.R\")",
      "2. file(filename, \"r\", encoding = encoding)"
     ]
    }
   ],
   "source": [
    "library(tidyverse)\n",
    "library(repr)\n",
    "library(tidymodels)\n",
    "options(repr.matrix.max.rows = 6)\n",
    "source('tests.R')\n",
    "source('cleanup.R')\n",
    "# install.packages(\"cowplot\")\n",
    "# library(cowplot)\n",
    "# library(scales)"
   ]
  },
  {
   "cell_type": "code",
   "execution_count": null,
   "id": "61c480ce-0b5a-4f40-b9e9-6ca32e0cdb83",
   "metadata": {
    "tags": []
   },
   "outputs": [],
   "source": [
    "# install.packages(\"readr\")\n",
    "# library(readr)"
   ]
  },
  {
   "cell_type": "code",
   "execution_count": 39,
   "id": "3a172c09-3966-4e77-959a-601afcf5eac5",
   "metadata": {
    "tags": []
   },
   "outputs": [
    {
     "name": "stderr",
     "output_type": "stream",
     "text": [
      "\u001b[1mRows: \u001b[22m\u001b[34m920\u001b[39m \u001b[1mColumns: \u001b[22m\u001b[34m16\u001b[39m\n",
      "\u001b[36m──\u001b[39m \u001b[1mColumn specification\u001b[22m \u001b[36m────────────────────────────────────────────────────────\u001b[39m\n",
      "\u001b[1mDelimiter:\u001b[22m \",\"\n",
      "\u001b[31mchr\u001b[39m (6): sex, dataset, cp, restecg, slope, thal\n",
      "\u001b[32mdbl\u001b[39m (8): id, age, trestbps, chol, thalch, oldpeak, ca, num\n",
      "\u001b[33mlgl\u001b[39m (2): fbs, exang\n",
      "\n",
      "\u001b[36mℹ\u001b[39m Use `spec()` to retrieve the full column specification for this data.\n",
      "\u001b[36mℹ\u001b[39m Specify the column types or set `show_col_types = FALSE` to quiet this message.\n"
     ]
    },
    {
     "data": {
      "text/html": [
       "<table class=\"dataframe\">\n",
       "<caption>A tibble: 920 × 8</caption>\n",
       "<thead>\n",
       "\t<tr><th scope=col>id</th><th scope=col>age</th><th scope=col>sex</th><th scope=col>trestbps</th><th scope=col>chol</th><th scope=col>thalch</th><th scope=col>ca</th><th scope=col>presence</th></tr>\n",
       "\t<tr><th scope=col>&lt;dbl&gt;</th><th scope=col>&lt;dbl&gt;</th><th scope=col>&lt;chr&gt;</th><th scope=col>&lt;dbl&gt;</th><th scope=col>&lt;dbl&gt;</th><th scope=col>&lt;dbl&gt;</th><th scope=col>&lt;dbl&gt;</th><th scope=col>&lt;fct&gt;</th></tr>\n",
       "</thead>\n",
       "<tbody>\n",
       "\t<tr><td>1</td><td>63</td><td>Male</td><td>145</td><td>233</td><td>150</td><td>0</td><td>N</td></tr>\n",
       "\t<tr><td>2</td><td>67</td><td>Male</td><td>160</td><td>286</td><td>108</td><td>3</td><td>P</td></tr>\n",
       "\t<tr><td>3</td><td>67</td><td>Male</td><td>120</td><td>229</td><td>129</td><td>2</td><td>P</td></tr>\n",
       "\t<tr><td>⋮</td><td>⋮</td><td>⋮</td><td>⋮</td><td>⋮</td><td>⋮</td><td>⋮</td><td>⋮</td></tr>\n",
       "\t<tr><td>918</td><td>55</td><td>Male</td><td>122</td><td>223</td><td>100</td><td>NA</td><td>P</td></tr>\n",
       "\t<tr><td>919</td><td>58</td><td>Male</td><td> NA</td><td>385</td><td> NA</td><td>NA</td><td>N</td></tr>\n",
       "\t<tr><td>920</td><td>62</td><td>Male</td><td>120</td><td>254</td><td> 93</td><td>NA</td><td>P</td></tr>\n",
       "</tbody>\n",
       "</table>\n"
      ],
      "text/latex": [
       "A tibble: 920 × 8\n",
       "\\begin{tabular}{llllllll}\n",
       " id & age & sex & trestbps & chol & thalch & ca & presence\\\\\n",
       " <dbl> & <dbl> & <chr> & <dbl> & <dbl> & <dbl> & <dbl> & <fct>\\\\\n",
       "\\hline\n",
       "\t 1 & 63 & Male & 145 & 233 & 150 & 0 & N\\\\\n",
       "\t 2 & 67 & Male & 160 & 286 & 108 & 3 & P\\\\\n",
       "\t 3 & 67 & Male & 120 & 229 & 129 & 2 & P\\\\\n",
       "\t ⋮ & ⋮ & ⋮ & ⋮ & ⋮ & ⋮ & ⋮ & ⋮\\\\\n",
       "\t 918 & 55 & Male & 122 & 223 & 100 & NA & P\\\\\n",
       "\t 919 & 58 & Male &  NA & 385 &  NA & NA & N\\\\\n",
       "\t 920 & 62 & Male & 120 & 254 &  93 & NA & P\\\\\n",
       "\\end{tabular}\n"
      ],
      "text/markdown": [
       "\n",
       "A tibble: 920 × 8\n",
       "\n",
       "| id &lt;dbl&gt; | age &lt;dbl&gt; | sex &lt;chr&gt; | trestbps &lt;dbl&gt; | chol &lt;dbl&gt; | thalch &lt;dbl&gt; | ca &lt;dbl&gt; | presence &lt;fct&gt; |\n",
       "|---|---|---|---|---|---|---|---|\n",
       "| 1 | 63 | Male | 145 | 233 | 150 | 0 | N |\n",
       "| 2 | 67 | Male | 160 | 286 | 108 | 3 | P |\n",
       "| 3 | 67 | Male | 120 | 229 | 129 | 2 | P |\n",
       "| ⋮ | ⋮ | ⋮ | ⋮ | ⋮ | ⋮ | ⋮ | ⋮ |\n",
       "| 918 | 55 | Male | 122 | 223 | 100 | NA | P |\n",
       "| 919 | 58 | Male |  NA | 385 |  NA | NA | N |\n",
       "| 920 | 62 | Male | 120 | 254 |  93 | NA | P |\n",
       "\n"
      ],
      "text/plain": [
       "    id  age sex  trestbps chol thalch ca presence\n",
       "1   1   63  Male 145      233  150    0  N       \n",
       "2   2   67  Male 160      286  108    3  P       \n",
       "3   3   67  Male 120      229  129    2  P       \n",
       "⋮   ⋮   ⋮   ⋮    ⋮        ⋮    ⋮      ⋮  ⋮       \n",
       "918 918 55  Male 122      223  100    NA P       \n",
       "919 919 58  Male  NA      385   NA    NA N       \n",
       "920 920 62  Male 120      254   93    NA P       "
      ]
     },
     "metadata": {},
     "output_type": "display_data"
    },
    {
     "data": {
      "text/html": [
       "<table class=\"dataframe\">\n",
       "<caption>A tibble: 1 × 5</caption>\n",
       "<thead>\n",
       "\t<tr><th scope=col>age</th><th scope=col>trestbps</th><th scope=col>chol</th><th scope=col>thalch</th><th scope=col>ca</th></tr>\n",
       "\t<tr><th scope=col>&lt;dbl&gt;</th><th scope=col>&lt;dbl&gt;</th><th scope=col>&lt;dbl&gt;</th><th scope=col>&lt;dbl&gt;</th><th scope=col>&lt;dbl&gt;</th></tr>\n",
       "</thead>\n",
       "<tbody>\n",
       "\t<tr><td>53.5312</td><td>131.9267</td><td>197.5571</td><td>136.938</td><td>0.678733</td></tr>\n",
       "</tbody>\n",
       "</table>\n"
      ],
      "text/latex": [
       "A tibble: 1 × 5\n",
       "\\begin{tabular}{lllll}\n",
       " age & trestbps & chol & thalch & ca\\\\\n",
       " <dbl> & <dbl> & <dbl> & <dbl> & <dbl>\\\\\n",
       "\\hline\n",
       "\t 53.5312 & 131.9267 & 197.5571 & 136.938 & 0.678733\\\\\n",
       "\\end{tabular}\n"
      ],
      "text/markdown": [
       "\n",
       "A tibble: 1 × 5\n",
       "\n",
       "| age &lt;dbl&gt; | trestbps &lt;dbl&gt; | chol &lt;dbl&gt; | thalch &lt;dbl&gt; | ca &lt;dbl&gt; |\n",
       "|---|---|---|---|---|\n",
       "| 53.5312 | 131.9267 | 197.5571 | 136.938 | 0.678733 |\n",
       "\n"
      ],
      "text/plain": [
       "  age     trestbps chol     thalch  ca      \n",
       "1 53.5312 131.9267 197.5571 136.938 0.678733"
      ]
     },
     "metadata": {},
     "output_type": "display_data"
    },
    {
     "data": {
      "text/html": [
       "469"
      ],
      "text/latex": [
       "469"
      ],
      "text/markdown": [
       "469"
      ],
      "text/plain": [
       "[1] 469"
      ]
     },
     "metadata": {},
     "output_type": "display_data"
    }
   ],
   "source": [
    "\n",
    "## We are using the heart disease data. As suggested by the professor we downloaded the csv file from kaggle and uploaded it into our notebook\n",
    "\n",
    "file_path <- \"data/heart_disease_uci.csv\"\n",
    "\n",
    "heart_disease_uci <- read_csv(file_path)\n",
    "\n",
    "# selecting only the rows we need and Change 'num' to a factor\n",
    "heart_disease_data <- heart_disease_uci |> \n",
    "         rename(presence = num) |>\n",
    "         select(id, age, sex, trestbps, chol, thalch, ca, presence) |>\n",
    "         mutate(presence = ifelse(presence == 0, \"N\", \"P\"),\n",
    "                presence = as.factor(presence))\n",
    "\n",
    "\n",
    "\n",
    "# Print the first few rows of the modified dataset\n",
    "heart_disease_data\n",
    "\n",
    "set.seed(3456)\n",
    "\n",
    "# Split the heart disease data into training and testing sets \n",
    "heart_disease_split <- initial_split(heart_disease_data, prop = 0.75, strata = presence)  \n",
    "heart_disease_train <- training(heart_disease_split)   \n",
    "heart_disease_test <- testing(heart_disease_split)\n",
    "\n",
    "presence_observations_table <- heart_disease_train |>\n",
    "    group_by(presence) |>\n",
    "    summarize(count = n()) \n",
    "\n",
    "predictors_mean_table <- heart_disease_train |>\n",
    "    select(age, trestbps, chol, thalch, ca) |>\n",
    "    map_df(mean, na.rm = TRUE)\n",
    "\n",
    "predictors_mean_table\n",
    "    \n",
    "missing_number_table <- sum(rowSums(is.na(heart_disease_train)) > 0)\n",
    "\n",
    "missing_number_table"
   ]
  },
  {
   "cell_type": "code",
   "execution_count": null,
   "id": "78f4261b-6ec6-4838-a041-0419cd18d359",
   "metadata": {},
   "outputs": [],
   "source": []
  }
 ],
 "metadata": {
  "kernelspec": {
   "display_name": "R",
   "language": "R",
   "name": "ir"
  },
  "language_info": {
   "codemirror_mode": "r",
   "file_extension": ".r",
   "mimetype": "text/x-r-source",
   "name": "R",
   "pygments_lexer": "r",
   "version": "4.2.2"
  }
 },
 "nbformat": 4,
 "nbformat_minor": 5
}
